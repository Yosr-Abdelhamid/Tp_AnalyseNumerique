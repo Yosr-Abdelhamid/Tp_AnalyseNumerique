{
 "cells": [
  {
   "cell_type": "markdown",
   "metadata": {},
   "source": [
    " # <font color='blue'> Exercice 4: </font> <br> \n",
    "1) On considère la fonction $f(x)=e^{-x}-x$. Ecrire puis appliquer une fonction Matlab que l'on appellera newton.m à la >fonction $f$, en prenant $x0=0$, $eps=0.001$ ."
   ]
  },
  {
   "cell_type": "code",
   "execution_count": 4,
   "metadata": {},
   "outputs": [],
   "source": [
    "from math import exp\n",
    "def f(x):\n",
    "    return exp(-x)-x\n",
    "def df(x):\n",
    "    return -exp(-x)-1\n",
    "# Methode de Newton\n",
    "def newton(a,eps):\n",
    "    x1=a-f(a)/df(a)\n",
    "    while abs(x1-a)>eps:\n",
    "        a=x1\n",
    "        x1=a-f(a)/df(a)\n",
    "    return x1"
   ]
  },
  {
   "cell_type": "code",
   "execution_count": 5,
   "metadata": {},
   "outputs": [
    {
     "name": "stdout",
     "output_type": "stream",
     "text": [
      "0.5671431650348622\n"
     ]
    }
   ],
   "source": [
    "print(newton(0,0.001))"
   ]
  },
  {
   "cell_type": "markdown",
   "metadata": {},
   "source": [
    "#### 2) Montrer que l'équation $f(x)=0$ admet une solution unique que l'on peut obtenir en utilisant la méthode de Newton à partir >de $x0=1$."
   ]
  },
  {
   "cell_type": "code",
   "execution_count": 6,
   "metadata": {},
   "outputs": [
    {
     "name": "stdout",
     "output_type": "stream",
     "text": [
      "0.567143285989123\n"
     ]
    }
   ],
   "source": [
    "print(newton(1,0.001))"
   ]
  },
  {
   "cell_type": "markdown",
   "metadata": {},
   "source": [
    "* Avantages de la méthode : s’il y a convergence, celle-ci est rapide (souvent quadratique), elle nécessite un\n",
    "seul point de départ. <br>\n",
    "* Inconvénients de la méthode : f doit être suffisamment régulière, la convergence n’est pas assurée dans tous\n",
    "les cas, s’il y a plusieurs racines elle ne converge par forcément vers la plus proche du point de départ."
   ]
  }
 ],
 "metadata": {
  "kernelspec": {
   "display_name": "Python 3",
   "language": "python",
   "name": "python3"
  },
  "language_info": {
   "codemirror_mode": {
    "name": "ipython",
    "version": 3
   },
   "file_extension": ".py",
   "mimetype": "text/x-python",
   "name": "python",
   "nbconvert_exporter": "python",
   "pygments_lexer": "ipython3",
   "version": "3.8.3"
  }
 },
 "nbformat": 4,
 "nbformat_minor": 4
}
